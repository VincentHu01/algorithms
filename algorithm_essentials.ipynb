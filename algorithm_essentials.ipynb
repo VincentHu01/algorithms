{
 "cells": [
  {
   "cell_type": "code",
   "execution_count": 1,
   "metadata": {},
   "outputs": [],
   "source": [
    "import random\n",
    "import time\n",
    "import copy\n",
    "import matplotlib.pyplot as plt\n",
    "%matplotlib inline"
   ]
  },
  {
   "cell_type": "markdown",
   "metadata": {},
   "source": [
    "#  sorting algorithms"
   ]
  },
  {
   "cell_type": "code",
   "execution_count": 2,
   "metadata": {},
   "outputs": [],
   "source": [
    "def gen_rand_int(n):\n",
    "    \"\"\"\n",
    "    generate random int array\n",
    "    \"\"\"\n",
    "    arr = []\n",
    "    for i in range(n):\n",
    "        arr.append(random.randint(1,n))\n",
    "    return arr\n",
    "\n",
    "def timer(func):\n",
    "    \"\"\"\n",
    "    timing decoration function\n",
    "    \"\"\"\n",
    "    def wrap(*args):\n",
    "        t0 = time.perf_counter()\n",
    "        res = func(*args)\n",
    "        t1 = time.perf_counter()\n",
    "        cost = (t1-t0)\n",
    "        print(f\"time: {cost:0.4f} sec\")\n",
    "        return func.__name__, cost\n",
    "    return wrap\n",
    "\n",
    "@timer\n",
    "def bubble_sort(arr):\n",
    "    print('use bubble sort ...')\n",
    "    for i in range(0, len(arr)):\n",
    "        for j in range(1, len(arr)):\n",
    "            if(arr[j] < arr[j-1]):\n",
    "                arr[j], arr[j-1] = arr[j-1], arr[j]\n",
    "\n",
    "@timer\n",
    "def bubble_sort2(arr):\n",
    "    print('use optimized bubble sort ...')\n",
    "    for i in range(0, len(arr)):\n",
    "        for j in range(1, len(arr)-i):\n",
    "            if(arr[j] < arr[j-1]):\n",
    "                arr[j], arr[j-1] = arr[j-1], arr[j]\n",
    "\n",
    "@timer\n",
    "def quick_sort(arr):\n",
    "    print('use quick sort ...')\n",
    "    s = []\n",
    "    s.append((0, len(arr)))\n",
    "    while(len(s)>0):\n",
    "        e = s.pop()\n",
    "        start, end = e[0], e[1]\n",
    "        left, right = start, end-1\n",
    "        pivot = arr[left]\n",
    "        while(left < right):\n",
    "            while (arr[right] >= pivot) & (left < right):\n",
    "                right -= 1\n",
    "            arr[left] = arr[right]\n",
    "            while (arr[left] <= pivot) & (left < right):\n",
    "                left += 1\n",
    "            arr[right] = arr[left]\n",
    "        arr[left] = pivot\n",
    "        if (right-start) > 1:\n",
    "            s.append((start, right+1))\n",
    "        if (end - left) > 1:\n",
    "            s.append((left+1, end))\n",
    "\n",
    "@timer\n",
    "def native_sort(arr):\n",
    "    print('use python native sort ...')\n",
    "    arr.sort()"
   ]
  },
  {
   "cell_type": "code",
   "execution_count": 3,
   "metadata": {},
   "outputs": [
    {
     "name": "stdout",
     "output_type": "stream",
     "text": [
      "2534837960456 2534837959688 2534837960008 2534837960136\n"
     ]
    }
   ],
   "source": [
    "arr1 = gen_rand_int(100)\n",
    "arr2 = copy.copy(arr1)\n",
    "arr3 = copy.copy(arr1)\n",
    "arr4 = copy.copy(arr1)\n",
    "# different ids of arrays represent different objects\n",
    "print(id(arr1),id(arr2),id(arr3), id(arr4))"
   ]
  },
  {
   "cell_type": "code",
   "execution_count": 4,
   "metadata": {
    "scrolled": true
   },
   "outputs": [
    {
     "name": "stdout",
     "output_type": "stream",
     "text": [
      "before sort:\n",
      " [17, 59, 70, 17, 93, 67, 55, 79, 69, 82] \n",
      " [17, 59, 70, 17, 93, 67, 55, 79, 69, 82] \n",
      " [17, 59, 70, 17, 93, 67, 55, 79, 69, 82] \n",
      " [17, 59, 70, 17, 93, 67, 55, 79, 69, 82]\n",
      "use bubble sort ...\n",
      "time: 0.0009 sec\n",
      "use optimized bubble sort ...\n",
      "time: 0.0006 sec\n",
      "use quick sort ...\n",
      "time: 0.0002 sec\n",
      "use python native sort ...\n",
      "time: 0.0000 sec\n",
      "after sort:\n",
      " [1, 1, 3, 4, 5, 5, 14, 15, 16, 16] \n",
      " [1, 1, 3, 4, 5, 5, 14, 15, 16, 16] \n",
      " [1, 1, 3, 4, 5, 5, 14, 15, 16, 16] \n",
      " [1, 1, 3, 4, 5, 5, 14, 15, 16, 16]\n"
     ]
    }
   ],
   "source": [
    "print('before sort:')\n",
    "print('', arr1[:10], '\\n', arr2[:10], '\\n', arr3[:10], '\\n', arr4[:10])\n",
    "\n",
    "res1 = bubble_sort(arr1)\n",
    "res2 = bubble_sort2(arr2)\n",
    "res3 = quick_sort(arr3)\n",
    "res4 = native_sort(arr4)\n",
    "\n",
    "print('after sort:')\n",
    "print('', arr1[:10], '\\n', arr2[:10], '\\n', arr3[:10], '\\n', arr4[:10])"
   ]
  },
  {
   "cell_type": "code",
   "execution_count": 5,
   "metadata": {},
   "outputs": [
    {
     "data": {
      "text/plain": [
       "Text(0, 0.5, 'Time(sec)')"
      ]
     },
     "execution_count": 5,
     "metadata": {},
     "output_type": "execute_result"
    },
    {
     "data": {
      "image/png": "[encoded data removed]",
      "text/plain": [
       "<Figure size 432x288 with 1 Axes>"
      ]
     },
     "metadata": {
      "needs_background": "light"
     },
     "output_type": "display_data"
    }
   ],
   "source": [
    "res = [res1, res2, res3, res4]\n",
    "categories = [i[0] for i in res]\n",
    "seconds = [i[1] for i in res]\n",
    "plt.bar(categories, seconds)\n",
    "plt.ylabel('Time(sec)')"
   ]
  },
  {
   "cell_type": "markdown",
   "metadata": {},
   "source": [
    "# binary search"
   ]
  },
  {
   "cell_type": "code",
   "execution_count": 6,
   "metadata": {},
   "outputs": [],
   "source": [
    "def b_search(arr, n):\n",
    "    \"\"\"\n",
    "    binary search is based on a sorted array\n",
    "    \"\"\"\n",
    "    start = 0\n",
    "    end = len(arr) - 1\n",
    "    while(start <= end):\n",
    "        mid = (start + end) // 2\n",
    "        if (arr[mid] < n):\n",
    "            start = mid + 1\n",
    "        elif (arr[mid] > n):\n",
    "            end = mid - 1\n",
    "        else:\n",
    "            return mid"
   ]
  },
  {
   "cell_type": "code",
   "execution_count": 7,
   "metadata": {},
   "outputs": [
    {
     "name": "stdout",
     "output_type": "stream",
     "text": [
      "[64, 19, 98, 40, 78, 19, 22, 86, 35, 2, 56, 47, 80, 60, 18, 21, 89, 14, 88, 2, 37, 51, 63, 17, 16, 18, 97, 38, 99, 53, 34, 87, 39, 7, 38, 74, 8, 4, 55, 99, 89, 60, 40, 90, 40, 98, 39, 2, 5, 65, 21, 93, 29, 11, 87, 15, 6, 37, 60, 38, 26, 43, 84, 7, 81, 21, 24, 44, 91, 82, 21, 60, 70, 12, 39, 19, 2, 96, 23, 30, 38, 24, 35, 17, 8, 29, 57, 87, 14, 83, 67, 46, 65, 76, 67, 36, 30, 47, 88, 63]\n",
      "use quick sort ...\n",
      "time: 0.0002 sec\n"
     ]
    },
    {
     "data": {
      "text/plain": [
       "('quick_sort', 0.00017479999999991946)"
      ]
     },
     "execution_count": 7,
     "metadata": {},
     "output_type": "execute_result"
    }
   ],
   "source": [
    "arr = gen_rand_int(100)\n",
    "print(arr)\n",
    "quick_sort(arr)"
   ]
  },
  {
   "cell_type": "code",
   "execution_count": 8,
   "metadata": {},
   "outputs": [
    {
     "name": "stdout",
     "output_type": "stream",
     "text": [
      "[2, 2, 2, 2, 4, 5, 6, 7, 7, 8, 8, 11, 12, 14, 14, 15, 16, 17, 17, 18, 18, 19, 19, 19, 21, 21, 21, 21, 22, 23, 24, 24, 26, 29, 29, 30, 30, 34, 35, 35, 36, 37, 37, 38, 38, 38, 38, 39, 39, 39, 40, 40, 40, 43, 44, 46, 47, 47, 51, 53, 55, 56, 57, 60, 60, 60, 60, 63, 63, 64, 65, 65, 67, 67, 70, 74, 76, 78, 80, 81, 82, 83, 84, 86, 87, 87, 87, 88, 88, 89, 89, 90, 91, 93, 96, 97, 98, 98, 99, 99]\n",
      "\n",
      " None 1\n",
      "\n",
      " 4 4\n",
      " >>> 4 4 4\n",
      "\n",
      " 8 7\n",
      " >>> 8 7 7\n",
      "\n",
      " None 10\n",
      "\n",
      " None 13\n",
      "\n",
      " 16 16\n",
      " >>> 16 16 16\n",
      "\n",
      " 22 19\n",
      " >>> 22 19 19\n",
      "\n",
      " 28 22\n",
      " >>> 28 22 22\n",
      "\n",
      " None 25\n",
      "\n",
      " None 28\n"
     ]
    }
   ],
   "source": [
    "print(arr)\n",
    "for i in range(1, 30, 3):\n",
    "    idx = b_search(arr, i)\n",
    "    print('\\n', idx, i)\n",
    "    if idx is not None:\n",
    "        print(' >>>', idx, i, arr[idx])"
   ]
  }
 ],
 "metadata": {
  "kernelspec": {
   "display_name": "Python 3",
   "language": "python",
   "name": "python3"
  },
  "language_info": {
   "codemirror_mode": {
    "name": "ipython",
    "version": 3
   },
   "file_extension": ".py",
   "mimetype": "text/x-python",
   "name": "python",
   "nbconvert_exporter": "python",
   "pygments_lexer": "ipython3",
   "version": "3.7.6"
  }
 },
 "nbformat": 4,
 "nbformat_minor": 4
}
