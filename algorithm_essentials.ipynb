{
 "cells": [
  {
   "cell_type": "code",
   "execution_count": 1,
   "metadata": {},
   "outputs": [],
   "source": [
    "import random\n",
    "import time\n",
    "import copy\n",
    "import matplotlib.pyplot as plt\n",
    "%matplotlib inline"
   ]
  },
  {
   "cell_type": "markdown",
   "metadata": {},
   "source": [
    "#  sorting algorithms"
   ]
  },
  {
   "cell_type": "code",
   "execution_count": 2,
   "metadata": {},
   "outputs": [],
   "source": [
    "def gen_rand_int(n):\n",
    "    \"\"\"\n",
    "    generate random int array\n",
    "    \"\"\"\n",
    "    arr = []\n",
    "    for i in range(n):\n",
    "        arr.append(random.randint(1,n))\n",
    "    return arr\n",
    "\n",
    "def timer(func):\n",
    "    \"\"\"\n",
    "    timing decoration function\n",
    "    \"\"\"\n",
    "    def wrap(*args):\n",
    "        t0 = time.perf_counter()\n",
    "        res = func(*args)\n",
    "        t1 = time.perf_counter()\n",
    "        cost = (t1-t0)\n",
    "        print(f\"time: {cost:0.4f} sec\")\n",
    "        return func.__name__, cost\n",
    "    return wrap\n",
    "\n",
    "@timer\n",
    "def bubble_sort(arr):\n",
    "    print('use bubble sort ...')\n",
    "    for i in range(0, len(arr)):\n",
    "        for j in range(1, len(arr)):\n",
    "            if(arr[j] < arr[j-1]):\n",
    "                arr[j], arr[j-1] = arr[j-1], arr[j]\n",
    "\n",
    "@timer\n",
    "def bubble_sort2(arr):\n",
    "    print('use optimized bubble sort ...')\n",
    "    for i in range(0, len(arr)):\n",
    "        for j in range(1, len(arr)-i):\n",
    "            if(arr[j] < arr[j-1]):\n",
    "                arr[j], arr[j-1] = arr[j-1], arr[j]\n",
    "\n",
    "@timer\n",
    "def quick_sort(arr):\n",
    "    print('use quick sort ...')\n",
    "    s = []\n",
    "    s.append((0, len(arr)))\n",
    "    while(len(s)>0):\n",
    "        e = s.pop()\n",
    "        start, end = e[0], e[1]\n",
    "        left, right = start, end-1\n",
    "        pivot = arr[left]\n",
    "        while(left < right):\n",
    "            while (arr[right] >= pivot) & (left < right):\n",
    "                right -= 1\n",
    "            arr[left] = arr[right]\n",
    "            while (arr[left] <= pivot) & (left < right):\n",
    "                left += 1\n",
    "            arr[right] = arr[left]\n",
    "        arr[left] = pivot\n",
    "        if (right-start) > 1:\n",
    "            s.append((start, right+1))\n",
    "        if (end - left) > 1:\n",
    "            s.append((left+1, end))\n",
    "\n",
    "@timer\n",
    "def native_sort(arr):\n",
    "    print('use python native sort ...')\n",
    "    arr.sort()"
   ]
  },
  {
   "cell_type": "code",
   "execution_count": 3,
   "metadata": {},
   "outputs": [
    {
     "name": "stdout",
     "output_type": "stream",
     "text": [
      "2023866087688 2023866087560 2023866087112 2023866087048\n"
     ]
    }
   ],
   "source": [
    "arr1 = gen_rand_int(100)\n",
    "arr2 = copy.copy(arr1)\n",
    "arr3 = copy.copy(arr1)\n",
    "arr4 = copy.copy(arr1)\n",
    "# different ids of arrays represent different objects\n",
    "print(id(arr1),id(arr2),id(arr3), id(arr4))"
   ]
  },
  {
   "cell_type": "code",
   "execution_count": 4,
   "metadata": {
    "scrolled": true
   },
   "outputs": [
    {
     "name": "stdout",
     "output_type": "stream",
     "text": [
      "before sort:\n",
      " [11, 9, 87, 44, 1, 45, 57, 48, 50, 43] \n",
      " [11, 9, 87, 44, 1, 45, 57, 48, 50, 43] \n",
      " [11, 9, 87, 44, 1, 45, 57, 48, 50, 43] \n",
      " [11, 9, 87, 44, 1, 45, 57, 48, 50, 43]\n",
      "use bubble sort ...\n",
      "time: 0.0009 sec\n",
      "use optimized bubble sort ...\n",
      "time: 0.0005 sec\n",
      "use quick sort ...\n",
      "time: 0.0002 sec\n",
      "use python native sort ...\n",
      "time: 0.0000 sec\n",
      "after sort:\n",
      " [1, 2, 2, 6, 7, 8, 9, 9, 11, 12] [94, 96, 96, 96, 97, 97, 99, 99, 99, 100] \n",
      " [1, 2, 2, 6, 7, 8, 9, 9, 11, 12] [94, 96, 96, 96, 97, 97, 99, 99, 99, 100] \n",
      " [1, 2, 2, 6, 7, 8, 9, 9, 11, 12] [94, 96, 96, 96, 97, 97, 99, 99, 99, 100] \n",
      " [1, 2, 2, 6, 7, 8, 9, 9, 11, 12] [94, 96, 96, 96, 97, 97, 99, 99, 99, 100]\n"
     ]
    }
   ],
   "source": [
    "print('before sort:')\n",
    "print('', arr1[:10], '\\n', arr2[:10], '\\n', arr3[:10], '\\n', arr4[:10])\n",
    "\n",
    "res1 = bubble_sort(arr1)\n",
    "res2 = bubble_sort2(arr2)\n",
    "res3 = quick_sort(arr3)\n",
    "res4 = native_sort(arr4)\n",
    "\n",
    "print('after sort:')\n",
    "print('', arr1[:10], arr1[-10:], '\\n', arr2[:10], arr2[-10:], '\\n', arr3[:10], arr3[-10:], '\\n', arr4[:10], arr4[-10:])"
   ]
  },
  {
   "cell_type": "code",
   "execution_count": 5,
   "metadata": {},
   "outputs": [
    {
     "data": {
      "text/plain": [
       "Text(0, 0.5, 'Time (sec)')"
      ]
     },
     "execution_count": 5,
     "metadata": {},
     "output_type": "execute_result"
    },
    {
     "data": {
      "image/png": "[encoded data removed]",
      "text/plain": [
       "<Figure size 432x288 with 1 Axes>"
      ]
     },
     "metadata": {
      "needs_background": "light"
     },
     "output_type": "display_data"
    }
   ],
   "source": [
    "res = [res1, res2, res3, res4]\n",
    "categories = [i[0] for i in res]\n",
    "seconds = [i[1] for i in res]\n",
    "plt.bar(categories, seconds)\n",
    "plt.ylabel('Time (sec)')"
   ]
  },
  {
   "cell_type": "markdown",
   "metadata": {},
   "source": [
    "# binary search"
   ]
  },
  {
   "cell_type": "code",
   "execution_count": 6,
   "metadata": {},
   "outputs": [],
   "source": [
    "def timer2(func):\n",
    "    \"\"\"\n",
    "    timing decoration function\n",
    "    \"\"\"\n",
    "    def wrap(*args):\n",
    "        t0 = time.perf_counter()\n",
    "        res = func(*args)\n",
    "        t1 = time.perf_counter()\n",
    "        cost = (t1-t0)\n",
    "        print(f\"time: {cost:0.4f} sec\")\n",
    "        return res, func.__name__, cost\n",
    "    return wrap\n",
    "\n",
    "@timer2\n",
    "def b_search(arr, n):\n",
    "    \"\"\"\n",
    "    binary search is based on a sorted array\n",
    "    \"\"\"\n",
    "    print('using binary search ...')\n",
    "    start = 0\n",
    "    end = len(arr) - 1\n",
    "    while(start <= end):\n",
    "        mid = (start + end) // 2\n",
    "        if (arr[mid] < n):\n",
    "            start = mid + 1\n",
    "        elif (arr[mid] > n):\n",
    "            end = mid - 1\n",
    "        else:\n",
    "            return mid\n",
    "\n",
    "@timer2\n",
    "def traverse_search(arr, n):\n",
    "    print('using traverse search ...')\n",
    "    for i, d in enumerate(arr):\n",
    "        if d == n:\n",
    "            return i\n",
    "\n",
    "@timer2\n",
    "def native_search(arr, n):\n",
    "    print('using native search ...')\n",
    "    return arr.index(n)"
   ]
  },
  {
   "cell_type": "code",
   "execution_count": 7,
   "metadata": {},
   "outputs": [
    {
     "name": "stdout",
     "output_type": "stream",
     "text": [
      "use quick sort ...\n",
      "time: 0.0028 sec\n",
      "using binary search ...\n",
      "time: 0.0000 sec\n",
      "√ search: 1 index: 0 arr[0]: 1\n",
      "\n",
      "using binary search ...\n",
      "time: 0.0000 sec\n",
      "√ search: 101 index: 96 arr[96]: 101\n",
      "\n",
      "using binary search ...\n",
      "time: 0.0000 sec\n",
      "× search: 201 index: None\n",
      "\n",
      "using binary search ...\n",
      "time: 0.0000 sec\n",
      "√ search: 301 index: 281 arr[281]: 301\n",
      "\n",
      "using binary search ...\n",
      "time: 0.0000 sec\n",
      "√ search: 401 index: 386 arr[386]: 401\n",
      "\n",
      "using binary search ...\n",
      "time: 0.0000 sec\n",
      "√ search: 501 index: 503 arr[503]: 501\n",
      "\n",
      "using binary search ...\n",
      "time: 0.0000 sec\n",
      "× search: 601 index: None\n",
      "\n",
      "using binary search ...\n",
      "time: 0.0000 sec\n",
      "√ search: 701 index: 709 arr[709]: 701\n",
      "\n",
      "using binary search ...\n",
      "time: 0.0000 sec\n",
      "√ search: 801 index: 799 arr[799]: 801\n",
      "\n",
      "using binary search ...\n",
      "time: 0.0000 sec\n",
      "× search: 901 index: None\n",
      "\n"
     ]
    }
   ],
   "source": [
    "arr = gen_rand_int(1000)\n",
    "quick_sort(arr)\n",
    "for i in range(1, 1000, 100):\n",
    "    res = b_search(arr, i)\n",
    "    idx = res[0]\n",
    "    if idx is not None:\n",
    "        print('√ search:', i, 'index:', idx, f'arr[{idx}]:', arr[idx])\n",
    "    else:\n",
    "        print('× search:', i, 'index:', idx)\n",
    "    print()"
   ]
  },
  {
   "cell_type": "code",
   "execution_count": 8,
   "metadata": {},
   "outputs": [
    {
     "name": "stdout",
     "output_type": "stream",
     "text": [
      "[0, 1, 2, 3, 4, 5, 6, 7, 8, 9] [9990, 9991, 9992, 9993, 9994, 9995, 9996, 9997, 9998, 9999]\n"
     ]
    }
   ],
   "source": [
    "n = 10000\n",
    "arr = [i for i in range(n)]\n",
    "print(arr[:10],arr[-10:])"
   ]
  },
  {
   "cell_type": "code",
   "execution_count": 9,
   "metadata": {},
   "outputs": [
    {
     "name": "stdout",
     "output_type": "stream",
     "text": [
      "using binary search ...\n",
      "time: 0.0000 sec\n",
      "using native search ...\n",
      "time: 0.0001 sec\n",
      "using traverse search ...\n",
      "time: 0.0003 sec\n"
     ]
    }
   ],
   "source": [
    "target = random.randint(1,n)\n",
    "res1 = b_search(arr, target)\n",
    "res2 = native_search(arr, target)\n",
    "res3 = traverse_search(arr, target)"
   ]
  },
  {
   "cell_type": "code",
   "execution_count": 10,
   "metadata": {},
   "outputs": [
    {
     "data": {
      "text/plain": [
       "Text(0, 0.5, 'Time (sec)')"
      ]
     },
     "execution_count": 10,
     "metadata": {},
     "output_type": "execute_result"
    },
    {
     "data": {
      "image/png": "[encoded data removed]",
      "text/plain": [
       "<Figure size 432x288 with 1 Axes>"
      ]
     },
     "metadata": {
      "needs_background": "light"
     },
     "output_type": "display_data"
    }
   ],
   "source": [
    "res = [res1, res2, res3]\n",
    "categories = [i[1] for i in res]\n",
    "seconds = [i[2] for i in res]\n",
    "plt.bar(categories, seconds)\n",
    "plt.ylabel('Time (sec)')"
   ]
  }
 ],
 "metadata": {
  "kernelspec": {
   "display_name": "Python 3",
   "language": "python",
   "name": "python3"
  },
  "language_info": {
   "codemirror_mode": {
    "name": "ipython",
    "version": 3
   },
   "file_extension": ".py",
   "mimetype": "text/x-python",
   "name": "python",
   "nbconvert_exporter": "python",
   "pygments_lexer": "ipython3",
   "version": "3.7.6"
  }
 },
 "nbformat": 4,
 "nbformat_minor": 4
}
