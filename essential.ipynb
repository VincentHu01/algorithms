{
 "cells": [
  {
   "cell_type": "code",
   "execution_count": 263,
   "metadata": {},
   "outputs": [],
   "source": [
    "import random\n",
    "import time\n",
    "import copy\n",
    "import matplotlib.pyplot as plt\n",
    "%matplotlib inline"
   ]
  },
  {
   "cell_type": "markdown",
   "metadata": {},
   "source": [
    "# bubble sort"
   ]
  },
  {
   "cell_type": "code",
   "execution_count": 300,
   "metadata": {},
   "outputs": [],
   "source": [
    "def gen_rand_int(n):\n",
    "    \"\"\"\n",
    "    generate random int array\n",
    "    \"\"\"\n",
    "    arr = []\n",
    "    for i in range(n):\n",
    "        arr.append(random.randint(1,n))\n",
    "    return arr\n",
    "\n",
    "def timer(func):\n",
    "    \"\"\"\n",
    "    timing decoration function\n",
    "    \"\"\"\n",
    "    def wrap(*args):\n",
    "        t0 = time.perf_counter()\n",
    "        res = func(*args)\n",
    "        t1 = time.perf_counter()\n",
    "        cost = (t1-t0)\n",
    "        print(f\"time: {cost:0.4f} sec\")\n",
    "        return func.__name__, cost\n",
    "    return wrap\n",
    "\n",
    "@timer\n",
    "def bubble_sort(arr):\n",
    "    print('use bubble sort ...')\n",
    "    for i in range(0, len(arr)):\n",
    "        for j in range(1, len(arr)):\n",
    "            if(arr[j] < arr[j-1]):\n",
    "                arr[j], arr[j-1] = arr[j-1], arr[j]\n",
    "\n",
    "@timer\n",
    "def bubble_sort2(arr):\n",
    "    print('use optimized bubble sort ...')\n",
    "    for i in range(0, len(arr)):\n",
    "        for j in range(1, len(arr)-i):\n",
    "            if(arr[j] < arr[j-1]):\n",
    "                arr[j], arr[j-1] = arr[j-1], arr[j]\n",
    "\n",
    "@timer\n",
    "def quick_sort(arr):\n",
    "    print('use quick sort ...')\n",
    "    s = []\n",
    "    s.append((0, len(arr)))\n",
    "    while(len(s)>0):\n",
    "        e = s.pop()\n",
    "        start, end = e[0], e[1]\n",
    "        left, right = start, end-1\n",
    "        pivot = arr[left]\n",
    "        while(left < right):\n",
    "            while (arr[right] >= pivot) & (left < right):\n",
    "                right -= 1\n",
    "            arr[left] = arr[right]\n",
    "            while (arr[left] <= pivot) & (left < right):\n",
    "                left += 1\n",
    "            arr[right] = arr[left]\n",
    "        arr[left] = pivot\n",
    "        if (right-start) > 1:\n",
    "            s.append((start, right+1))\n",
    "        if (end - left) > 1:\n",
    "            s.append((left+1, end))\n",
    "\n",
    "@timer\n",
    "def native_sort(arr):\n",
    "    print('use python native sort ...')\n",
    "    arr.sort()"
   ]
  },
  {
   "cell_type": "code",
   "execution_count": 313,
   "metadata": {},
   "outputs": [
    {
     "name": "stdout",
     "output_type": "stream",
     "text": [
      "1812420094536 1812420092104 1812416770248 1812418237832\n"
     ]
    }
   ],
   "source": [
    "arr1 = gen_rand_int(100)\n",
    "arr2 = copy.copy(arr1)\n",
    "arr3 = copy.copy(arr1)\n",
    "arr4 = copy.copy(arr1)\n",
    "# different ids of arrays represent different objects\n",
    "print(id(arr1),id(arr2),id(arr3), id(arr4))"
   ]
  },
  {
   "cell_type": "code",
   "execution_count": 314,
   "metadata": {
    "scrolled": true
   },
   "outputs": [
    {
     "name": "stdout",
     "output_type": "stream",
     "text": [
      "before sort:\n",
      " [45, 96, 68, 24, 36, 55, 37, 13, 53, 63] \n",
      " [45, 96, 68, 24, 36, 55, 37, 13, 53, 63] \n",
      " [45, 96, 68, 24, 36, 55, 37, 13, 53, 63] \n",
      " [45, 96, 68, 24, 36, 55, 37, 13, 53, 63]\n",
      "use bubble sort ...\n",
      "time: 0.0011 sec\n",
      "use optimized bubble sort ...\n",
      "time: 0.0007 sec\n",
      "use quick sort ...\n",
      "time: 0.0001 sec\n",
      "use python native sort ...\n",
      "time: 0.0000 sec\n",
      "after sort:\n",
      " [2, 3, 4, 4, 5, 6, 8, 12, 13, 13] \n",
      " [2, 3, 4, 4, 5, 6, 8, 12, 13, 13] \n",
      " [2, 3, 4, 4, 5, 6, 8, 12, 13, 13] \n",
      " [2, 3, 4, 4, 5, 6, 8, 12, 13, 13]\n"
     ]
    }
   ],
   "source": [
    "print('before sort:')\n",
    "print('', arr1[:10], '\\n', arr2[:10], '\\n', arr3[:10], '\\n', arr4[:10])\n",
    "\n",
    "res1 = bubble_sort(arr1)\n",
    "res2 = bubble_sort2(arr2)\n",
    "res3 = quick_sort(arr3)\n",
    "res4 = native_sort(arr4)\n",
    "\n",
    "print('after sort:')\n",
    "print('', arr1[:10], '\\n', arr2[:10], '\\n', arr3[:10], '\\n', arr4[:10])"
   ]
  },
  {
   "cell_type": "code",
   "execution_count": 315,
   "metadata": {},
   "outputs": [
    {
     "data": {
      "text/plain": [
       "Text(0, 0.5, 'Time(sec)')"
      ]
     },
     "execution_count": 315,
     "metadata": {},
     "output_type": "execute_result"
    },
    {
     "data": {
      "image/png": "[encoded data removed]",
      "text/plain": [
       "<Figure size 432x288 with 1 Axes>"
      ]
     },
     "metadata": {
      "needs_background": "light"
     },
     "output_type": "display_data"
    }
   ],
   "source": [
    "res = [res1, res2, res3, res4]\n",
    "categories = [i[0] for i in res]\n",
    "seconds = [i[1] for i in res]\n",
    "plt.bar(categories, seconds)\n",
    "plt.ylabel('Time(sec)')"
   ]
  },
  {
   "cell_type": "markdown",
   "metadata": {},
   "source": [
    "# binary search"
   ]
  },
  {
   "cell_type": "code",
   "execution_count": 262,
   "metadata": {},
   "outputs": [],
   "source": [
    "def b_search(arr, n):\n",
    "    \"\"\"\n",
    "    binary search is based on a sorted array\n",
    "    \"\"\"\n",
    "    start = 0\n",
    "    end = len(arr) - 1\n",
    "    while(start <= end):\n",
    "        mid = (start + end) // 2\n",
    "        if (arr[mid] < n):\n",
    "            start = mid + 1\n",
    "        elif (arr[mid] > n):\n",
    "            end = mid - 1\n",
    "        else:\n",
    "            return mid"
   ]
  },
  {
   "cell_type": "code",
   "execution_count": 160,
   "metadata": {},
   "outputs": [
    {
     "data": {
      "text/plain": [
       "[1, 2, 4, 6, 8, 10]"
      ]
     },
     "execution_count": 160,
     "metadata": {},
     "output_type": "execute_result"
    }
   ],
   "source": [
    "arr = [1,2,4,6,8,10]\n",
    "arr"
   ]
  },
  {
   "cell_type": "code",
   "execution_count": 162,
   "metadata": {},
   "outputs": [
    {
     "name": "stdout",
     "output_type": "stream",
     "text": [
      "None\n"
     ]
    }
   ],
   "source": [
    "res = b_search(arr, 11)\n",
    "print(res)"
   ]
  }
 ],
 "metadata": {
  "kernelspec": {
   "display_name": "Python 3",
   "language": "python",
   "name": "python3"
  },
  "language_info": {
   "codemirror_mode": {
    "name": "ipython",
    "version": 3
   },
   "file_extension": ".py",
   "mimetype": "text/x-python",
   "name": "python",
   "nbconvert_exporter": "python",
   "pygments_lexer": "ipython3",
   "version": "3.7.6"
  }
 },
 "nbformat": 4,
 "nbformat_minor": 4
}
